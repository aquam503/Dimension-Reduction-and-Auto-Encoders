{
  "cells": [
    {
      "cell_type": "markdown",
      "source": [
        "### Problème 4 : Reconstruction d’images de mode (utilisation Keras avec Python 3) :"
      ],
      "metadata": {
        "id": "L3DxH6B1c1_g"
      }
    },
    {
      "cell_type": "markdown",
      "source": [
        "```\n",
        "# Fait par : ELMAHFOUD RADOUANE\n",
        "# Encadré par : HOAYEK ANIS\n",
        "```\n"
      ],
      "metadata": {
        "id": "dLfvyhtMgS0P"
      }
    },
    {
      "cell_type": "markdown",
      "source": [
        "## Chargement et Prétraitement des Données Fashion MNIST\n",
        "\n",
        "Nous utilisons TensorFlow et Keras pour charger la base de données Fashion MNIST, qui contient des images en niveaux de gris de vêtements appartenant à 10 catégories différentes. Les données sont séparées en ensembles d'entraînement et de test, et les dimensions de ces ensembles sont affichées pour avoir une idée de leur taille.\n",
        "\n",
        "Ensuite, une image du jeu de test est visualisée à l'aide de Matplotlib pour donner un aperçu visuel du type de données que nous manipulons. La normalisation est ensuite effectuée en mettant à l'échelle les valeurs des pixels de l'intervalle [0, 255] à l'intervalle [0, 1], ce qui peut aider à améliorer la convergence de l'algorithme d'apprentissage.\n",
        "\n",
        "Enfin, les données sont redimensionnées pour être utilisées dans un réseau de neurones, où chaque image est aplatie en un vecteur unidimensionnel. Les dimensions finales des ensembles d'entraînement et de test sont respectivement (60000, 784) et (10000, 784), indiquant que chaque image a été transformée en un vecteur de 784 valeurs."
      ],
      "metadata": {
        "id": "riEliFOnfgOM"
      }
    },
    {
      "cell_type": "code",
      "execution_count": 2,
      "metadata": {
        "id": "uNGBEmxEWuoY"
      },
      "outputs": [],
      "source": [
        "import os\n",
        "import numpy as np\n",
        "import pandas as pd\n",
        "import tensorflow as tf\n",
        "import matplotlib.pyplot as plt\n",
        "from tensorflow.keras.datasets import fashion_mnist\n",
        "from tensorflow.keras.layers import Input, Dense\n",
        "from tensorflow.keras.models import Model\n",
        "from sklearn.metrics import accuracy_score, precision_score, recall_score\n",
        "from sklearn.model_selection import train_test_split"
      ]
    },
    {
      "cell_type": "code",
      "execution_count": 3,
      "metadata": {
        "id": "skucBoaYW3U7",
        "colab": {
          "base_uri": "https://localhost:8080/",
          "height": 604
        },
        "outputId": "762acf42-dac6-4e49-9767-70c5d4795e96"
      },
      "outputs": [
        {
          "output_type": "stream",
          "name": "stdout",
          "text": [
            "Downloading data from https://storage.googleapis.com/tensorflow/tf-keras-datasets/train-labels-idx1-ubyte.gz\n",
            "29515/29515 [==============================] - 0s 0us/step\n",
            "Downloading data from https://storage.googleapis.com/tensorflow/tf-keras-datasets/train-images-idx3-ubyte.gz\n",
            "26421880/26421880 [==============================] - 0s 0us/step\n",
            "Downloading data from https://storage.googleapis.com/tensorflow/tf-keras-datasets/t10k-labels-idx1-ubyte.gz\n",
            "5148/5148 [==============================] - 0s 0us/step\n",
            "Downloading data from https://storage.googleapis.com/tensorflow/tf-keras-datasets/t10k-images-idx3-ubyte.gz\n",
            "4422102/4422102 [==============================] - 0s 0us/step\n",
            "(60000, 28, 28)\n",
            "(10000, 28, 28)\n"
          ]
        },
        {
          "output_type": "display_data",
          "data": {
            "text/plain": [
              "<Figure size 640x480 with 1 Axes>"
            ],
            "image/png": "[encoded data removed]"
          },
          "metadata": {}
        }
      ],
      "source": [
        "# Chargement des données\n",
        "(x_train, _), (x_test, _) = fashion_mnist.load_data()\n",
        "\n",
        "# Affichage des dimensions\n",
        "print(x_train.shape)\n",
        "print(x_test.shape)\n",
        "\n",
        "# Visualisation d'une image\n",
        "plt.imshow(x_test[0], cmap='gray')\n",
        "plt.show()\n",
        "\n",
        "# Normalisation et redimensionnement des données\n",
        "x_train = x_train.astype('float32') / 255.\n",
        "x_test = x_test.astype('float32') / 255.\n",
        "x_train = x_train.reshape(len(x_train), np.prod(x_train.shape[1:]))\n",
        "x_test = x_test.reshape(len(x_test), np.prod(x_test.shape[1:]))\n"
      ]
    },
    {
      "cell_type": "markdown",
      "source": [
        "2."
      ],
      "metadata": {
        "id": "0buqMHBRalu2"
      }
    },
    {
      "cell_type": "markdown",
      "source": [
        "## Construction et Interprétation d'un Autoencodeur (AE) en Keras\n",
        "\n",
        "On construit un Autoencodeur (AE) utilisant la bibliothèque Keras. L'objectif de l'AE est de compresser et reconstruire les données tout en apprenant une représentation interne significative. Pour ce faire, nous avons défini un AE avec une couche d'encodage de dimension 64, utilisant les fonctions d'activation 'relu' pour l'encodage et 'sigmoid' pour le décodage.\n",
        "\n",
        "Le modèle est constitué d'une couche d'entrée (`input_layer`) avec 784 caractéristiques, représentant les pixels d'une image de taille 28x28 pixels. La couche d'encodage (`encoder_layer`) réduit ces 784 caractéristiques à une dimension de 64 à l'aide d'une fonction d'activation 'relu'. Ensuite, la couche de décodage (`decoder_layer`) tente de reconstruire l'image originale avec 784 caractéristiques en utilisant une fonction d'activation 'sigmoid'.\n"
      ],
      "metadata": {
        "id": "JTzOdn-pg2hF"
      }
    },
    {
      "cell_type": "code",
      "source": [
        "from keras.layers import Input, Dense\n",
        "from keras.models import Model\n",
        "\n",
        "# Dimension de l'espace encodé\n",
        "encoding_dim = 64\n",
        "\n",
        "# Définir la couche d'entrée\n",
        "input_layer = Input(shape=(784,))\n",
        "\n",
        "# Couche de l'encodeur\n",
        "encoder_layer = Dense(encoding_dim, activation='relu')(input_layer)\n",
        "\n",
        "# Couche du décodeur\n",
        "decoder_layer = Dense(784, activation='sigmoid')(encoder_layer)\n",
        "\n",
        "# Ce modèle mappe une entrée à sa reconstruction\n",
        "autoencoder = Model(input_layer, decoder_layer)\n",
        "\n",
        "# Afficher le résumé du modèle\n",
        "autoencoder.summary()"
      ],
      "metadata": {
        "colab": {
          "base_uri": "https://localhost:8080/"
        },
        "id": "1-m4ywhKafdh",
        "outputId": "86c932b5-c6af-4713-aca0-eb2e5c660996"
      },
      "execution_count": 4,
      "outputs": [
        {
          "output_type": "stream",
          "name": "stdout",
          "text": [
            "Model: \"model\"\n",
            "_________________________________________________________________\n",
            " Layer (type)                Output Shape              Param #   \n",
            "=================================================================\n",
            " input_1 (InputLayer)        [(None, 784)]             0         \n",
            "                                                                 \n",
            " dense (Dense)               (None, 64)                50240     \n",
            "                                                                 \n",
            " dense_1 (Dense)             (None, 784)               50960     \n",
            "                                                                 \n",
            "=================================================================\n",
            "Total params: 101200 (395.31 KB)\n",
            "Trainable params: 101200 (395.31 KB)\n",
            "Non-trainable params: 0 (0.00 Byte)\n",
            "_________________________________________________________________\n"
          ]
        }
      ]
    },
    {
      "cell_type": "markdown",
      "source": [
        "Le résumé du modèle affiche les différentes couches du modèle, indiquant le type de couche, la forme de sortie, et le nombre de paramètres entraînables.   * l'AE a un total de 101,200 paramètres (395.31 KB). Ces paramètres sont ajustés pendant l'entraînement du modèle pour minimiser la différence entre les images d'entrée et les reconstructions."
      ],
      "metadata": {
        "id": "ba2ohFiBhFY3"
      }
    },
    {
      "cell_type": "markdown",
      "source": [
        "3."
      ],
      "metadata": {
        "id": "b9vAe0yga0p1"
      }
    },
    {
      "cell_type": "markdown",
      "source": [
        "## Compilation et Entraînement de l'Autoencodeur avec Données MNIST\n",
        "\n",
        "On va compiler et entraîner l'autoencodeur construit précédemment en utilisant les données MNIST. L'autoencodeur a été compilé avec l'optimiseur **Adam** et la fonction de perte Mean Squared Error **(MSE)** pour mesurer la différence entre les images originales et leurs reconstructions.\n",
        "\n",
        "Le processus d'entraînement a été réalisé sur les données d'entraînement avec un total de **10 époques**, et la performance du modèle a été évaluée sur les données de test à chaque époque. Les résultats affichent la diminution de la perte (loss) à chaque époque, tant pour les données d'entraînement que pour les données de validation. La perte de validation (val_loss) a également été observée pour évaluer la capacité du modèle à généraliser à de nouvelles données.\n",
        "\n",
        "Les résultats obtenus montrent une diminution de la perte au fil des époques, indiquant que le modèle apprend à reconstruire les images avec une meilleure performance. La perte de validation suivant une tendance similaire suggère que le modèle généralise bien aux nouvelles données. Cependant, pour une évaluation complète de la performance, on va aussi visualiser les images reconstruites et de comparer visuellement les résultats.\n"
      ],
      "metadata": {
        "id": "yrn90BmVh79i"
      }
    },
    {
      "cell_type": "code",
      "source": [
        "# Compiler l'autoencoder\n",
        "autoencoder.compile(optimizer='adam', loss='MeanSquaredError')\n",
        "\n",
        "# Entraîner l'autoencoder\n",
        "autoencoder.fit(x_train, x_train, epochs=10, validation_data=(x_test, x_test))"
      ],
      "metadata": {
        "colab": {
          "base_uri": "https://localhost:8080/"
        },
        "id": "DDvx2nUuafaa",
        "outputId": "f2731e4d-1167-4808-9b4c-20d1ead86719"
      },
      "execution_count": 5,
      "outputs": [
        {
          "output_type": "stream",
          "name": "stdout",
          "text": [
            "Epoch 1/10\n",
            "1875/1875 [==============================] - 8s 4ms/step - loss: 0.0238 - val_loss: 0.0132\n",
            "Epoch 2/10\n",
            "1875/1875 [==============================] - 8s 4ms/step - loss: 0.0116 - val_loss: 0.0105\n",
            "Epoch 3/10\n",
            "1875/1875 [==============================] - 7s 4ms/step - loss: 0.0100 - val_loss: 0.0096\n",
            "Epoch 4/10\n",
            "1875/1875 [==============================] - 8s 4ms/step - loss: 0.0094 - val_loss: 0.0093\n",
            "Epoch 5/10\n",
            "1875/1875 [==============================] - 6s 3ms/step - loss: 0.0091 - val_loss: 0.0091\n",
            "Epoch 6/10\n",
            "1875/1875 [==============================] - 8s 4ms/step - loss: 0.0090 - val_loss: 0.0090\n",
            "Epoch 7/10\n",
            "1875/1875 [==============================] - 7s 4ms/step - loss: 0.0089 - val_loss: 0.0089\n",
            "Epoch 8/10\n",
            "1875/1875 [==============================] - 7s 4ms/step - loss: 0.0088 - val_loss: 0.0089\n",
            "Epoch 9/10\n",
            "1875/1875 [==============================] - 8s 4ms/step - loss: 0.0088 - val_loss: 0.0089\n",
            "Epoch 10/10\n",
            "1875/1875 [==============================] - 7s 4ms/step - loss: 0.0087 - val_loss: 0.0088\n"
          ]
        },
        {
          "output_type": "execute_result",
          "data": {
            "text/plain": [
              "<keras.src.callbacks.History at 0x786ea08763b0>"
            ]
          },
          "metadata": {},
          "execution_count": 5
        }
      ]
    },
    {
      "cell_type": "markdown",
      "source": [
        "4."
      ],
      "metadata": {
        "id": "to7bYmp5bAL7"
      }
    },
    {
      "cell_type": "markdown",
      "source": [
        "## Reconstruction des Images par l'Autoencodeur\n",
        "On va utiliser l'autoencodeur préalablement entraîné pour reconstruire les images de l'ensemble de test. Le code utilise la méthode `predict` de l'autoencodeur pour obtenir les reconstructions. Ensuite, à l'aide de la bibliothèque Matplotlib, nous avons comparé visuellement les cinq premières images originales avec leurs reconstructions.\n",
        "\n",
        "La première rangée d'images affiche les exemples originaux, tandis que la deuxième rangée montre les images reconstruites par l'autoencodeur. L'évaluation visuelle de ces reconstructions permet d'apprécier la qualité du modèle."
      ],
      "metadata": {
        "id": "ipkGBkPnkRza"
      }
    },
    {
      "cell_type": "code",
      "source": [
        "# Utiliser l'autoencodeur pour reconstruire les images\n",
        "reconstructed_imgs = autoencoder.predict(x_test)\n",
        "\n",
        "# Nombre d'images à afficher\n",
        "n = 5\n",
        "plt.figure(figsize=(20, 4))\n",
        "\n",
        "for i in range(n):\n",
        "    # Afficher les images originales\n",
        "    ax = plt.subplot(2, n, i + 1)\n",
        "    plt.imshow(x_test[i].reshape(28, 28), cmap='gray')\n",
        "    ax.get_xaxis().set_visible(False)\n",
        "    ax.get_yaxis().set_visible(False)\n",
        "\n",
        "    # Afficher les images reconstruites\n",
        "    ax = plt.subplot(2, n, i + 1 + n)\n",
        "    plt.imshow(reconstructed_imgs[i].reshape(28, 28), cmap='gray')\n",
        "    ax.get_xaxis().set_visible(False)\n",
        "    ax.get_yaxis().set_visible(False)\n",
        "\n",
        "plt.show()"
      ],
      "metadata": {
        "colab": {
          "base_uri": "https://localhost:8080/",
          "height": 362
        },
        "id": "6_s_WgLKafYa",
        "outputId": "58523d62-0381-4896-8e87-a93494ff48d0"
      },
      "execution_count": 8,
      "outputs": [
        {
          "output_type": "stream",
          "name": "stdout",
          "text": [
            "313/313 [==============================] - 1s 2ms/step\n"
          ]
        },
        {
          "output_type": "display_data",
          "data": {
            "text/plain": [
              "<Figure size 2000x400 with 10 Axes>"
            ],
            "image/png": "[encoded data removed]"
          },
          "metadata": {}
        }
      ]
    },
    {
      "cell_type": "code",
      "source": [
        "from sklearn.metrics import mean_squared_error\n",
        "\n",
        "\n",
        "# Calculer la MSE pour chaque paire d'images originale-reconstruite\n",
        "mse_scores = [mean_squared_error(x_test[i].flatten(), reconstructed_imgs[i].flatten()) for i in range(len(x_test))]\n",
        "\n",
        "# Afficher les scores MSE pour les cinq premières images\n",
        "for i in range(5):\n",
        "    print(f\"MSE pour l'image {i+1}: {mse_scores[i]}\")"
      ],
      "metadata": {
        "colab": {
          "base_uri": "https://localhost:8080/"
        },
        "id": "0V4qameRk5MQ",
        "outputId": "4a2da1fb-b3ee-41f4-b230-9547620e7cc1"
      },
      "execution_count": 9,
      "outputs": [
        {
          "output_type": "stream",
          "name": "stdout",
          "text": [
            "MSE pour l'image 1: 0.003927296958863735\n",
            "MSE pour l'image 2: 0.015367135405540466\n",
            "MSE pour l'image 3: 0.002895177574828267\n",
            "MSE pour l'image 4: 0.0038857508916407824\n",
            "MSE pour l'image 5: 0.008887563832104206\n"
          ]
        }
      ]
    },
    {
      "cell_type": "markdown",
      "source": [
        "Les valeurs de Mean Squared Error (MSE) qu'on a obtenu pour les cinq images semblent être relativement basses, ce qui suggère que l'autoencodeur a réussi à reconstruire ces images avec une faible erreur de reconstruction."
      ],
      "metadata": {
        "id": "aHHlzUvplQpK"
      }
    },
    {
      "cell_type": "markdown",
      "source": [
        "5."
      ],
      "metadata": {
        "id": "oSwPGtizcL7K"
      }
    },
    {
      "cell_type": "markdown",
      "source": [
        "## Comparaison de la Performance entre un Autoencodeur Simple et un Autoencodeur Profond\n",
        "\n",
        "Nous avons créé et évalué deux autoencodeurs (AE) différents : un AE simple avec une couche d'encodage et une couche de décodage, et un AE profond avec trois couches intermédiaires symétriques de tailles 128, 64 et 128 respectivement. Les deux modèles ont été entraînés sur les mêmes données d'entraînement et évalués sur l'ensemble de test."
      ],
      "metadata": {
        "id": "lVMQud17nQGi"
      }
    },
    {
      "cell_type": "code",
      "source": [
        "# Définition des dimensions des couches encodées\n",
        "encoding_dim1 = 128\n",
        "encoding_dim2 = 64\n",
        "encoding_dim3 = 128\n",
        "\n",
        "# Couche d'entrée\n",
        "input_img = Input(shape=(784,))\n",
        "\n",
        "# Couches de l'encodeur\n",
        "encoded = Dense(encoding_dim1, activation='relu')(input_img)\n",
        "encoded = Dense(encoding_dim2, activation='relu')(encoded)\n",
        "\n",
        "# Couche codée (espace latent)\n",
        "encoded = Dense(encoding_dim3, activation='relu')(encoded)\n",
        "\n",
        "# Couches du décodeur\n",
        "decoded = Dense(encoding_dim3, activation='relu')(encoded)\n",
        "decoded = Dense(encoding_dim1, activation='relu')(decoded)\n",
        "\n",
        "# Couche de sortie (reconstruction)\n",
        "decoded = Dense(784, activation='sigmoid')(decoded)\n",
        "\n",
        "# Modèle de l'autoencodeur\n",
        "deep_autoencoder = Model(input_img, decoded)"
      ],
      "metadata": {
        "id": "5VTqTwuYafUK"
      },
      "execution_count": 10,
      "outputs": []
    },
    {
      "cell_type": "code",
      "source": [
        "deep_autoencoder.compile(optimizer='adam', loss='mean_squared_error')"
      ],
      "metadata": {
        "id": "yXB-ROEdcdox"
      },
      "execution_count": 11,
      "outputs": []
    },
    {
      "cell_type": "code",
      "source": [
        "# Entraîner l'autoencodeur profond\n",
        "deep_autoencoder.fit(x_train, x_train, epochs=10, validation_data=(x_test, x_test))\n",
        "\n",
        "# Utiliser l'autoencodeur profond pour reconstruire les images de test\n",
        "reconstructed_imgs_deep = deep_autoencoder.predict(x_test)"
      ],
      "metadata": {
        "colab": {
          "base_uri": "https://localhost:8080/"
        },
        "id": "0p0CZ5t4cdiW",
        "outputId": "c7554d32-3e45-4a93-a62e-e57e58e0e435"
      },
      "execution_count": 12,
      "outputs": [
        {
          "output_type": "stream",
          "name": "stdout",
          "text": [
            "Epoch 1/10\n",
            "1875/1875 [==============================] - 16s 7ms/step - loss: 0.0244 - val_loss: 0.0169\n",
            "Epoch 2/10\n",
            "1875/1875 [==============================] - 14s 7ms/step - loss: 0.0151 - val_loss: 0.0140\n",
            "Epoch 3/10\n",
            "1875/1875 [==============================] - 15s 8ms/step - loss: 0.0132 - val_loss: 0.0128\n",
            "Epoch 4/10\n",
            "1875/1875 [==============================] - 15s 8ms/step - loss: 0.0120 - val_loss: 0.0120\n",
            "Epoch 5/10\n",
            "1875/1875 [==============================] - 16s 8ms/step - loss: 0.0113 - val_loss: 0.0111\n",
            "Epoch 6/10\n",
            "1875/1875 [==============================] - 15s 8ms/step - loss: 0.0108 - val_loss: 0.0106\n",
            "Epoch 7/10\n",
            "1875/1875 [==============================] - 15s 8ms/step - loss: 0.0104 - val_loss: 0.0105\n",
            "Epoch 8/10\n",
            "1875/1875 [==============================] - 16s 8ms/step - loss: 0.0101 - val_loss: 0.0100\n",
            "Epoch 9/10\n",
            "1875/1875 [==============================] - 15s 8ms/step - loss: 0.0098 - val_loss: 0.0098\n",
            "Epoch 10/10\n",
            "1875/1875 [==============================] - 13s 7ms/step - loss: 0.0096 - val_loss: 0.0097\n",
            "313/313 [==============================] - 1s 2ms/step\n"
          ]
        }
      ]
    },
    {
      "cell_type": "code",
      "source": [
        "# Calculer le MSE pour l'autoencodeur original\n",
        "mse_original = np.mean(np.power(x_test - reconstructed_imgs, 2))\n",
        "\n",
        "# Calculer le MSE pour l'autoencodeur profond\n",
        "mse_deep = np.mean(np.power(x_test - reconstructed_imgs_deep, 2))\n",
        "\n",
        "print(f'MSE for original AE: {mse_original}')\n",
        "print(f'MSE for deep AE: {mse_deep}')"
      ],
      "metadata": {
        "colab": {
          "base_uri": "https://localhost:8080/"
        },
        "id": "NdlCIbTrcmqs",
        "outputId": "9512a790-deb7-4d09-f9d4-3cc975b2c967"
      },
      "execution_count": 13,
      "outputs": [
        {
          "output_type": "stream",
          "name": "stdout",
          "text": [
            "MSE for original AE: 0.008846326731145382\n",
            "MSE for deep AE: 0.009693637490272522\n"
          ]
        }
      ]
    },
    {
      "cell_type": "markdown",
      "source": [
        "\n",
        "Cependant, la performance d'un autoencodeur ne se limite pas uniquement à la valeur de MSE. L'inspection visuelle des images reconstruites et des différences est cruciale pour comprendre comment le modèle performe dans la reconstruction des détails spécifiques des images. Les images fournies montrent que les différences entre les images originales et reconstruites sont visibles mais ne sont pas extrêmement prononcées, ce qui indique que les deux modèles ont réussi à capturer les caractéristiques générales des données.\n",
        "\n",
        "La légère augmentation du MSE pour le DAE pourrait être attribuable à plusieurs facteurs, tels que un besoin de régularisation plus forte pour contrer le surapprentissage dû à une capacité plus grande, ou peut-être que le modèle profond nécessiterait plus d'époques pour converger vers une meilleure solution. Il est également possible que le DAE capture des caractéristiques plus subtiles qui ne sont pas reflétées dans une mesure globale comme le MSE.\n",
        "\n",
        "En conclusion, bien que le DAE n'ait pas significativement surpassé l'AE original en termes de MSE, il ne peut être jugé inférieur sans une analyse plus approfondie. Des expérimentations supplémentaires avec la régularisation, l'ajustement des hyperparamètres, et peut-être l'entraînement sur un plus grand nombre d'époques pourraient révéler le plein potentiel du DAE. La qualité de la reconstruction devrait également être évaluée dans le contexte de l'application spécifique pour laquelle l'autoencodeur est destiné, car différentes applications peuvent exiger une fidélité différente dans la reconstruction des images."
      ],
      "metadata": {
        "id": "vhRU6-Opdiov"
      }
    },
    {
      "cell_type": "code",
      "source": [
        "import matplotlib.pyplot as plt\n",
        "\n",
        "\n",
        "# Calcul des différences\n",
        "differences = x_test - reconstructed_imgs_deep\n",
        "\n",
        "# Nombre d'images à afficher\n",
        "n = 5\n",
        "plt.figure(figsize=(20, 4))\n",
        "\n",
        "for i in range(n):\n",
        "    # Afficher les images originales\n",
        "    ax = plt.subplot(3, n, i + 1)\n",
        "    plt.imshow(x_test[i].reshape(28, 28), cmap='gray')\n",
        "    ax.get_xaxis().set_visible(False)\n",
        "    ax.get_yaxis().set_visible(False)\n",
        "    ax.set_title('Original')\n",
        "\n",
        "    # Afficher les images reconstruites\n",
        "    ax = plt.subplot(3, n, i + 1 + n)\n",
        "    plt.imshow(reconstructed_imgs_deep[i].reshape(28, 28), cmap='gray')\n",
        "    ax.get_xaxis().set_visible(False)\n",
        "    ax.get_yaxis().set_visible(False)\n",
        "    ax.set_title('Reconstructed')\n",
        "\n",
        "    # Afficher les différences\n",
        "    ax = plt.subplot(3, n, i + 1 + n * 2)\n",
        "    plt.imshow(differences[i].reshape(28, 28), cmap='gray')\n",
        "    ax.get_xaxis().set_visible(False)\n",
        "    ax.get_yaxis().set_visible(False)\n",
        "    ax.set_title('Difference')\n",
        "\n",
        "plt.show()"
      ],
      "metadata": {
        "colab": {
          "base_uri": "https://localhost:8080/",
          "height": 323
        },
        "id": "VaVAQekDdM-5",
        "outputId": "fb589979-2617-46d2-cdd1-10dc6690171e"
      },
      "execution_count": null,
      "outputs": [
        {
          "output_type": "display_data",
          "data": {
            "text/plain": [
              "<Figure size 2000x400 with 15 Axes>"
            ],
            "image/png": "[encoded data removed]"
          },
          "metadata": {}
        }
      ]
    },
    {
      "cell_type": "markdown",
      "source": [
        "6."
      ],
      "metadata": {
        "id": "cP3VYESLdl5V"
      }
    },
    {
      "cell_type": "code",
      "source": [
        "from keras.layers import Input, Conv2D, MaxPooling2D, UpSampling2D\n",
        "from keras.models import Model\n",
        "\n",
        "# Dimension de l'entrée\n",
        "input_img = Input(shape=(28, 28, 1)) # le '1' indique un seul canal (niveaux de gris)\n",
        "\n",
        "# Architecture de l'encodeur\n",
        "x = Conv2D(32, (3, 3), activation='relu', padding='same')(input_img)\n",
        "x = MaxPooling2D((2, 2), padding='same')(x)\n",
        "x = Conv2D(16, (3, 3), activation='relu', padding='same')(x)\n",
        "encoded = MaxPooling2D((2, 2), padding='same')(x)\n",
        "\n",
        "# Architecture du décodeur\n",
        "x = Conv2D(16, (3, 3), activation='relu', padding='same')(encoded)\n",
        "x = UpSampling2D((2, 2))(x)\n",
        "x = Conv2D(32, (3, 3), activation='relu', padding='same')(x)\n",
        "x = UpSampling2D((2, 2))(x)\n",
        "decoded = Conv2D(1, (3, 3), activation='sigmoid', padding='same')(x)\n",
        "\n",
        "# Modèle de l'autoencodeur convolutif\n",
        "conv_autoencoder = Model(input_img, decoded)\n"
      ],
      "metadata": {
        "id": "6AU2u7KXdmqW"
      },
      "execution_count": 14,
      "outputs": []
    },
    {
      "cell_type": "code",
      "source": [
        "conv_autoencoder.compile(optimizer='adam', loss='mean_squared_error')"
      ],
      "metadata": {
        "id": "f_A8_OBndq8S"
      },
      "execution_count": 15,
      "outputs": []
    },
    {
      "cell_type": "code",
      "source": [
        "# Notez que les données doivent être reformées pour avoir une dimension de canal.\n",
        "x_train = x_train.reshape(-1, 28, 28, 1)\n",
        "x_test = x_test.reshape(-1, 28, 28, 1)\n",
        "\n",
        "# Entraîner l'autoencodeur convolutif\n",
        "conv_autoencoder.fit(x_train, x_train, epochs=10, validation_data=(x_test, x_test))\n",
        "\n",
        "# Utiliser l'autoencodeur convolutif pour reconstruire les images de test\n",
        "reconstructed_imgs_conv = conv_autoencoder.predict(x_test)"
      ],
      "metadata": {
        "colab": {
          "base_uri": "https://localhost:8080/"
        },
        "id": "-vQYBPFudq5Q",
        "outputId": "078c3545-77ba-4e4a-c2d8-c05720bac238"
      },
      "execution_count": 16,
      "outputs": [
        {
          "output_type": "stream",
          "name": "stdout",
          "text": [
            "Epoch 1/10\n",
            "1875/1875 [==============================] - 127s 64ms/step - loss: 0.0127 - val_loss: 0.0076\n",
            "Epoch 2/10\n",
            "1875/1875 [==============================] - 121s 65ms/step - loss: 0.0066 - val_loss: 0.0059\n",
            "Epoch 3/10\n",
            "1875/1875 [==============================] - 118s 63ms/step - loss: 0.0053 - val_loss: 0.0049\n",
            "Epoch 4/10\n",
            "1875/1875 [==============================] - 120s 64ms/step - loss: 0.0046 - val_loss: 0.0044\n",
            "Epoch 5/10\n",
            "1875/1875 [==============================] - 121s 64ms/step - loss: 0.0043 - val_loss: 0.0042\n",
            "Epoch 6/10\n",
            "1875/1875 [==============================] - 121s 64ms/step - loss: 0.0040 - val_loss: 0.0040\n",
            "Epoch 7/10\n",
            "1875/1875 [==============================] - 122s 65ms/step - loss: 0.0039 - val_loss: 0.0038\n",
            "Epoch 8/10\n",
            "1875/1875 [==============================] - 122s 65ms/step - loss: 0.0037 - val_loss: 0.0037\n",
            "Epoch 9/10\n",
            "1875/1875 [==============================] - 120s 64ms/step - loss: 0.0036 - val_loss: 0.0036\n",
            "Epoch 10/10\n",
            "1875/1875 [==============================] - 119s 63ms/step - loss: 0.0036 - val_loss: 0.0036\n",
            "313/313 [==============================] - 5s 14ms/step\n"
          ]
        }
      ]
    },
    {
      "cell_type": "markdown",
      "source": [
        "## Comparaison de Performance entre des Autoencodeurs de Différentes Architectures"
      ],
      "metadata": {
        "id": "OBirZlCAyrs2"
      }
    },
    {
      "cell_type": "code",
      "source": [
        "# Calculer le MSE pour l'autoencodeur convolutif\n",
        "mse_conv = np.mean(np.power(x_test - reconstructed_imgs_conv, 2))\n",
        "\n",
        "print(f'MSE for original AE: {mse_original}')\n",
        "print(f'MSE for deep AE: {mse_deep}')\n",
        "print(f'MSE for conv AE: {mse_conv}')"
      ],
      "metadata": {
        "id": "tF5is7IsdqpM",
        "colab": {
          "base_uri": "https://localhost:8080/"
        },
        "outputId": "f5b547c9-3c0f-4714-a237-a070f6e56a42"
      },
      "execution_count": 17,
      "outputs": [
        {
          "output_type": "stream",
          "name": "stdout",
          "text": [
            "MSE for original AE: 0.008846326731145382\n",
            "MSE for deep AE: 0.009693637490272522\n",
            "MSE for conv AE: 0.003581330878660083\n"
          ]
        }
      ]
    },
    {
      "cell_type": "markdown",
      "source": [
        "\n",
        "Nous avons exploré trois architectures d'autoencodeurs (AE) pour la reconstruction d'images fashion MNIST : un AE simple, un AE profond, et un AE convolutif. Les résultats montrent que l'AE convolutif a surpassé les autres en termes de performance, avec une Mean Squared Error (MSE) d'environ 0.00358 sur les données de test. Cette amélioration peut être attribuée à la capacité des couches convolutionnelles à extraire efficacement les motifs locaux et les hiérarchies de caractéristiques dans les images.\n",
        "\n",
        "En comparaison, l'AE simple a atteint une MSE d'environ 0.00885, tandis que l'AE profond a obtenu une MSE d'environ 0.00969. La différence significative dans les performances indique que l'architecture convolutive est mieux adaptée à la tâche de reconstruction d'images MNIST, permettant une extraction plus précise des caractéristiques. Les couches convolutionnelles agissent comme des filtres apprenables, capturant des motifs locaux, ce qui s'avère particulièrement avantageux pour les données d'images.\n",
        "\n",
        "Il est important de souligner que l'efficacité d'un modèle dépend de la nature spécifique des données. Dans ce cas, l'AE convolutif a démontré une meilleure adaptabilité aux structures complexes des images MNIST, conduisant à des reconstructions plus fidèles par rapport aux modèles simples et profonds."
      ],
      "metadata": {
        "id": "RAIITUuHypTr"
      }
    }
  ],
  "metadata": {
    "colab": {
      "provenance": [],
      "gpuType": "T4"
    },
    "kernelspec": {
      "display_name": "Python 3",
      "name": "python3"
    },
    "language_info": {
      "name": "python"
    },
    "accelerator": "GPU"
  },
  "nbformat": 4,
  "nbformat_minor": 0
}